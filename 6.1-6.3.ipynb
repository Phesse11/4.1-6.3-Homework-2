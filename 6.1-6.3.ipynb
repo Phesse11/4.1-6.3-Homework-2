{
 "cells": [
  {
   "cell_type": "code",
   "execution_count": 1,
   "id": "873b652a",
   "metadata": {},
   "outputs": [
    {
     "data": {
      "text/plain": [
       "[3, 2, 1, 0]"
      ]
     },
     "execution_count": 1,
     "metadata": {},
     "output_type": "execute_result"
    }
   ],
   "source": [
    "list( range(3,-1,-1) ) # The code is listing the range from 3 to 0 because i took 3 and minus that by 1 and then i minus by one again "
   ]
  },
  {
   "cell_type": "code",
   "execution_count": 2,
   "id": "dfa6c830",
   "metadata": {},
   "outputs": [
    {
     "name": "stdout",
     "output_type": "stream",
     "text": [
      "To Low\n"
     ]
    }
   ],
   "source": [
    "guess_me = 7 # This is The Secret Number :)\n",
    "number = 1 # This is the number you guess \n",
    "\n",
    "\n",
    "while True: # This is where the while loop starts \n",
    "    if guess_me > number: # if you pick a number less then the secret number the code will tell you it's too low \n",
    "        print(\"To Low\") \n",
    "        break # This where the loop Stops the loop from going on and on\n",
    "        number += 1 # so it can the add the message one time instead of it going continuesly\n",
    "    elif guess_me == number: # The code telling you that you found the secret code congrats :)\n",
    "        print(\"FOUND IT\")\n",
    "        break # This where the loop Stops the loop from going on and on\n",
    "        number += 1 # so it can the add the message one time instead of it going continuesly\n",
    "    else: # if the number is greater than the secret number it will say oops\n",
    "        print(\"oops\")\n",
    "        break # This where the loop Stops the loop from going on and on\n",
    "        number += 1 # so it can the add the message one time instead of it going continuesly"
   ]
  },
  {
   "cell_type": "code",
   "execution_count": 2,
   "id": "cf8b9b70",
   "metadata": {},
   "outputs": [
    {
     "name": "stdout",
     "output_type": "stream",
     "text": [
      "that's too low\n",
      "that's too low\n",
      "that's too low\n",
      "that's too low\n",
      "that's too low\n",
      "FOUND IT\n"
     ]
    }
   ],
   "source": [
    "guess_me = 5 # how many times it says a sentence in a squence\n",
    "\n",
    "\n",
    "for number in range(10): # returns the iterable object so you'll need to step through the values.\n",
    "\n",
    "    if number < guess_me: # The code is telling you the guess is too low\n",
    "        print(\"that's too low\")\n",
    "    elif number == guess_me: # The code is telling you got the secret right :)\n",
    "        print(\"FOUND IT\")\n",
    "        break # ends the loop \n",
    "    else:\n",
    "        print(\"oops\") # you got the secret code wrong \n",
    "        exit # ends the loop\n",
    "\n",
    "        \n",
    "    \n",
    "    \n",
    "    "
   ]
  },
  {
   "cell_type": "code",
   "execution_count": null,
   "id": "60e805b7",
   "metadata": {},
   "outputs": [],
   "source": [
    "\n"
   ]
  },
  {
   "cell_type": "code",
   "execution_count": null,
   "id": "bfc0060d",
   "metadata": {},
   "outputs": [],
   "source": []
  }
 ],
 "metadata": {
  "kernelspec": {
   "display_name": "Python 3 (ipykernel)",
   "language": "python",
   "name": "python3"
  },
  "language_info": {
   "codemirror_mode": {
    "name": "ipython",
    "version": 3
   },
   "file_extension": ".py",
   "mimetype": "text/x-python",
   "name": "python",
   "nbconvert_exporter": "python",
   "pygments_lexer": "ipython3",
   "version": "3.9.13"
  }
 },
 "nbformat": 4,
 "nbformat_minor": 5
}
