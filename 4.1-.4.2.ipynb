{
 "cells": [
  {
   "cell_type": "code",
   "execution_count": 1,
   "id": "8bd34de2",
   "metadata": {},
   "outputs": [
    {
     "name": "stdout",
     "output_type": "stream",
     "text": [
      "It's a Pea\n"
     ]
    }
   ],
   "source": [
    "green = True\n",
    "small = True\n",
    "orange = False \n",
    "large = False \n",
    "\n",
    "if True:\n",
    "    print(\"It's a Pea\") # True statement is green and peas are grean which makes it a true statement\n",
    "else:\n",
    "    print(\"It's a Pumpkin\")  # False statement because a Pumpkin isn't green, and it's also large"
   ]
  },
  {
   "cell_type": "code",
   "execution_count": null,
   "id": "aa5590f4",
   "metadata": {},
   "outputs": [],
   "source": [
    "secret = 3 # My Secret Number :)\n",
    "guess = 3 # My Guess\n",
    "\n",
    "if guess < secret:\n",
    "    print(\"That's too Low\") # The Code is telling you the guess is too low. \n",
    "elif guess > secret:\n",
    "    print(\"Thats too High\") # The Code telling you the guess is too High\n",
    "else:\n",
    "    print(\"Just Right\") # The Code is Telling you that you got the secret number right congrats :)"
   ]
  }
 ],
 "metadata": {
  "kernelspec": {
   "display_name": "Python 3 (ipykernel)",
   "language": "python",
   "name": "python3"
  },
  "language_info": {
   "codemirror_mode": {
    "name": "ipython",
    "version": 3
   },
   "file_extension": ".py",
   "mimetype": "text/x-python",
   "name": "python",
   "nbconvert_exporter": "python",
   "pygments_lexer": "ipython3",
   "version": "3.9.13"
  }
 },
 "nbformat": 4,
 "nbformat_minor": 5
}
