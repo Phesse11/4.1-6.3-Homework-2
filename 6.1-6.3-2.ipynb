{
 "cells": [
  {
   "cell_type": "code",
   "execution_count": 1,
   "id": "873b652a",
   "metadata": {},
   "outputs": [
    {
     "data": {
      "text/plain": [
       "[3, 2, 1, 0]"
      ]
     },
     "execution_count": 1,
     "metadata": {},
     "output_type": "execute_result"
    }
   ],
   "source": [
    "list( range(3,-1,-1) ) # The list range is 3 - 1 - 1 there for it will go down by one "
   ]
  },
  {
   "cell_type": "code",
   "execution_count": 2,
   "id": "dfa6c830",
   "metadata": {},
   "outputs": [
    {
     "name": "stdout",
     "output_type": "stream",
     "text": [
      "To Low\n"
     ]
    }
   ],
   "source": [
    "guess_me = 7 # The Mystery Number :)\n",
    "number = 1 # My Guess :)\n",
    "\n",
    "\n",
    "while True:\n",
    "    if guess_me > number: # If Guess_me is greater than number then it will say to low\n",
    "        print(\"To Low\")\n",
    "        break # stop from being a infinate loop and to keep repeating \n",
    "        number += 1 # Keeps it \n",
    "    elif guess_me == number: # If Guess_me is equal to number the the program will say Found it\n",
    "        print(\"FOUND IT\")\n",
    "        break  # stop from being a infinate loop and to keep repeating \n",
    "        number += 1\n",
    "    else:\n",
    "        print(\"oops\") # If Guess_me is less than number then it will say oops\n",
    "        break # stop from being a infinate loop and to keep repeating \n",
    "        number += 1 "
   ]
  },
  {
   "cell_type": "code",
   "execution_count": 2,
   "id": "cf8b9b70",
   "metadata": {},
   "outputs": [
    {
     "name": "stdout",
     "output_type": "stream",
     "text": [
      "that's too low\n",
      "that's too low\n",
      "that's too low\n",
      "that's too low\n",
      "that's too low\n",
      "FOUND IT\n"
     ]
    }
   ],
   "source": [
    "guess_me = 5 # guess me Number\n",
    "number = 5\n",
    "\n",
    "for number in range(10): # For loop for number range 1-10\n",
    "\n",
    "    if number < guess_me: # if statement says if number is less then guess_me it will say too low.\n",
    "        print(\"that's too low\") \n",
    "    elif number == guess_me: # elif statement says if number is equal to guess_me it will say too Found it.\n",
    "        print(\"FOUND IT\")\n",
    "        break\n",
    "    else:\n",
    "        print(\"oops\") # if number is greater than guess me it will say oops \n",
    "        exit\n",
    "\n",
    "        \n",
    "    \n",
    "    \n",
    "    "
   ]
  },
  {
   "cell_type": "code",
   "execution_count": null,
   "id": "60e805b7",
   "metadata": {},
   "outputs": [],
   "source": [
    "\n"
   ]
  },
  {
   "cell_type": "code",
   "execution_count": null,
   "id": "bfc0060d",
   "metadata": {},
   "outputs": [],
   "source": []
  }
 ],
 "metadata": {
  "kernelspec": {
   "display_name": "Python 3 (ipykernel)",
   "language": "python",
   "name": "python3"
  },
  "language_info": {
   "codemirror_mode": {
    "name": "ipython",
    "version": 3
   },
   "file_extension": ".py",
   "mimetype": "text/x-python",
   "name": "python",
   "nbconvert_exporter": "python",
   "pygments_lexer": "ipython3",
   "version": "3.9.13"
  }
 },
 "nbformat": 4,
 "nbformat_minor": 5
}
